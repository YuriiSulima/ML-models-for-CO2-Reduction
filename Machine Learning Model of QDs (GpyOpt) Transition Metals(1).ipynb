{
 "cells": [
  {
   "cell_type": "code",
   "execution_count": 12,
   "id": "260cd5a8",
   "metadata": {},
   "outputs": [],
   "source": [
    "import GPyOpt\n",
    "from GPyOpt.methods import BayesianOptimization\n",
    "from sklearn import datasets\n",
    "from sklearn.model_selection import cross_val_score\n",
    "import numpy as np\n",
    "import xgboost as xgb\n",
    "import pandas as pd\n",
    "from sklearn.preprocessing import LabelEncoder\n",
    "from sklearn.preprocessing import StandardScaler\n",
    "from sklearn.pipeline import Pipeline\n",
    "from sklearn.model_selection import train_test_split\n",
    "import matplotlib.pyplot as plt"
   ]
  },
  {
   "cell_type": "markdown",
   "id": "dfa88732-7e7a-40a8-94cb-94668ccfacd0",
   "metadata": {},
   "source": [
    "# Reading the dataset"
   ]
  },
  {
   "cell_type": "code",
   "execution_count": 13,
   "id": "337f1628",
   "metadata": {},
   "outputs": [
    {
     "name": "stdout",
     "output_type": "stream",
     "text": [
      "(49, 25)\n"
     ]
    },
    {
     "data": {
      "text/html": [
       "<div>\n",
       "<style scoped>\n",
       "    .dataframe tbody tr th:only-of-type {\n",
       "        vertical-align: middle;\n",
       "    }\n",
       "\n",
       "    .dataframe tbody tr th {\n",
       "        vertical-align: top;\n",
       "    }\n",
       "\n",
       "    .dataframe thead th {\n",
       "        text-align: right;\n",
       "    }\n",
       "</style>\n",
       "<table border=\"1\" class=\"dataframe\">\n",
       "  <thead>\n",
       "    <tr style=\"text-align: right;\">\n",
       "      <th></th>\n",
       "      <th>Index</th>\n",
       "      <th>Catalyst</th>\n",
       "      <th>Catalyst amount (umol)</th>\n",
       "      <th>mmol CO / g QD</th>\n",
       "      <th>pH before</th>\n",
       "      <th>Time</th>\n",
       "      <th>mass (um)</th>\n",
       "      <th>Charge</th>\n",
       "      <th>radius (pm)</th>\n",
       "      <th>Number of electrons</th>\n",
       "      <th>...</th>\n",
       "      <th>3-&gt;2</th>\n",
       "      <th>Electronegativity</th>\n",
       "      <th>Density</th>\n",
       "      <th>Melting point</th>\n",
       "      <th>Electical Conductivity 10^7</th>\n",
       "      <th>Thermal Conductivity</th>\n",
       "      <th>Magnetic Type</th>\n",
       "      <th>Extinction coefficient</th>\n",
       "      <th>Max absorption wavelength</th>\n",
       "      <th>Extinction coefficient (400 nm)</th>\n",
       "    </tr>\n",
       "  </thead>\n",
       "  <tbody>\n",
       "    <tr>\n",
       "      <th>0</th>\n",
       "      <td>1</td>\n",
       "      <td>FeCl3</td>\n",
       "      <td>0.0002</td>\n",
       "      <td>11.28</td>\n",
       "      <td>NaN</td>\n",
       "      <td>24.0</td>\n",
       "      <td>55.845</td>\n",
       "      <td>3</td>\n",
       "      <td>64.5</td>\n",
       "      <td>26</td>\n",
       "      <td>...</td>\n",
       "      <td>0.771</td>\n",
       "      <td>1.8</td>\n",
       "      <td>2.9</td>\n",
       "      <td>579.1</td>\n",
       "      <td>1.0</td>\n",
       "      <td>79.0</td>\n",
       "      <td>Ferromagnetic</td>\n",
       "      <td>1840</td>\n",
       "      <td>292</td>\n",
       "      <td>53.5</td>\n",
       "    </tr>\n",
       "    <tr>\n",
       "      <th>1</th>\n",
       "      <td>2</td>\n",
       "      <td>FeCl3</td>\n",
       "      <td>0.0020</td>\n",
       "      <td>33.84</td>\n",
       "      <td>NaN</td>\n",
       "      <td>24.0</td>\n",
       "      <td>55.845</td>\n",
       "      <td>3</td>\n",
       "      <td>64.5</td>\n",
       "      <td>26</td>\n",
       "      <td>...</td>\n",
       "      <td>0.771</td>\n",
       "      <td>1.8</td>\n",
       "      <td>2.9</td>\n",
       "      <td>579.1</td>\n",
       "      <td>1.0</td>\n",
       "      <td>79.0</td>\n",
       "      <td>Ferromagnetic</td>\n",
       "      <td>1840</td>\n",
       "      <td>292</td>\n",
       "      <td>53.5</td>\n",
       "    </tr>\n",
       "    <tr>\n",
       "      <th>2</th>\n",
       "      <td>3</td>\n",
       "      <td>FeCl3</td>\n",
       "      <td>0.0100</td>\n",
       "      <td>71.57</td>\n",
       "      <td>NaN</td>\n",
       "      <td>24.0</td>\n",
       "      <td>55.845</td>\n",
       "      <td>3</td>\n",
       "      <td>64.5</td>\n",
       "      <td>26</td>\n",
       "      <td>...</td>\n",
       "      <td>0.771</td>\n",
       "      <td>1.8</td>\n",
       "      <td>2.9</td>\n",
       "      <td>579.1</td>\n",
       "      <td>1.0</td>\n",
       "      <td>79.0</td>\n",
       "      <td>Ferromagnetic</td>\n",
       "      <td>1840</td>\n",
       "      <td>292</td>\n",
       "      <td>53.5</td>\n",
       "    </tr>\n",
       "    <tr>\n",
       "      <th>3</th>\n",
       "      <td>4</td>\n",
       "      <td>FeCl3</td>\n",
       "      <td>0.2000</td>\n",
       "      <td>452.21</td>\n",
       "      <td>NaN</td>\n",
       "      <td>24.0</td>\n",
       "      <td>55.845</td>\n",
       "      <td>3</td>\n",
       "      <td>64.5</td>\n",
       "      <td>26</td>\n",
       "      <td>...</td>\n",
       "      <td>0.771</td>\n",
       "      <td>1.8</td>\n",
       "      <td>2.9</td>\n",
       "      <td>579.1</td>\n",
       "      <td>1.0</td>\n",
       "      <td>79.0</td>\n",
       "      <td>Ferromagnetic</td>\n",
       "      <td>1840</td>\n",
       "      <td>292</td>\n",
       "      <td>53.5</td>\n",
       "    </tr>\n",
       "    <tr>\n",
       "      <th>4</th>\n",
       "      <td>5</td>\n",
       "      <td>FeCl3</td>\n",
       "      <td>1.0000</td>\n",
       "      <td>243.69</td>\n",
       "      <td>NaN</td>\n",
       "      <td>24.0</td>\n",
       "      <td>55.845</td>\n",
       "      <td>3</td>\n",
       "      <td>64.5</td>\n",
       "      <td>26</td>\n",
       "      <td>...</td>\n",
       "      <td>0.771</td>\n",
       "      <td>1.8</td>\n",
       "      <td>2.9</td>\n",
       "      <td>579.1</td>\n",
       "      <td>1.0</td>\n",
       "      <td>79.0</td>\n",
       "      <td>Ferromagnetic</td>\n",
       "      <td>1840</td>\n",
       "      <td>292</td>\n",
       "      <td>53.5</td>\n",
       "    </tr>\n",
       "  </tbody>\n",
       "</table>\n",
       "<p>5 rows × 25 columns</p>\n",
       "</div>"
      ],
      "text/plain": [
       "   Index Catalyst  Catalyst amount (umol)  mmol CO / g QD  pH before  Time   \\\n",
       "0      1    FeCl3                  0.0002           11.28        NaN   24.0   \n",
       "1      2    FeCl3                  0.0020           33.84        NaN   24.0   \n",
       "2      3    FeCl3                  0.0100           71.57        NaN   24.0   \n",
       "3      4    FeCl3                  0.2000          452.21        NaN   24.0   \n",
       "4      5    FeCl3                  1.0000          243.69        NaN   24.0   \n",
       "\n",
       "   mass (um)  Charge  radius (pm)  Number of electrons  ...   3->2  \\\n",
       "0     55.845       3         64.5                   26  ...  0.771   \n",
       "1     55.845       3         64.5                   26  ...  0.771   \n",
       "2     55.845       3         64.5                   26  ...  0.771   \n",
       "3     55.845       3         64.5                   26  ...  0.771   \n",
       "4     55.845       3         64.5                   26  ...  0.771   \n",
       "\n",
       "   Electronegativity Density  Melting point   Electical Conductivity 10^7  \\\n",
       "0                1.8     2.9           579.1                          1.0   \n",
       "1                1.8     2.9           579.1                          1.0   \n",
       "2                1.8     2.9           579.1                          1.0   \n",
       "3                1.8     2.9           579.1                          1.0   \n",
       "4                1.8     2.9           579.1                          1.0   \n",
       "\n",
       "   Thermal Conductivity  Magnetic Type  Extinction coefficient  \\\n",
       "0                  79.0  Ferromagnetic                    1840   \n",
       "1                  79.0  Ferromagnetic                    1840   \n",
       "2                  79.0  Ferromagnetic                    1840   \n",
       "3                  79.0  Ferromagnetic                    1840   \n",
       "4                  79.0  Ferromagnetic                    1840   \n",
       "\n",
       "   Max absorption wavelength  Extinction coefficient (400 nm)  \n",
       "0                        292                             53.5  \n",
       "1                        292                             53.5  \n",
       "2                        292                             53.5  \n",
       "3                        292                             53.5  \n",
       "4                        292                             53.5  \n",
       "\n",
       "[5 rows x 25 columns]"
      ]
     },
     "execution_count": 13,
     "metadata": {},
     "output_type": "execute_result"
    }
   ],
   "source": [
    "data = pd.read_csv(\"YS01 - ML Photocatalysis Transitional Metals.csv\")\n",
    "print(data.shape)\n",
    "data.head()"
   ]
  },
  {
   "cell_type": "markdown",
   "id": "54a9bd8c-f61c-4d1c-a81b-c5648f7a76c4",
   "metadata": {},
   "source": [
    "# Preprocessing"
   ]
  },
  {
   "cell_type": "code",
   "execution_count": 14,
   "id": "6aff7109",
   "metadata": {},
   "outputs": [
    {
     "name": "stdout",
     "output_type": "stream",
     "text": [
      "{'CoCl2': 0, 'FeCl2': 1, 'FeCl3': 2, 'MnCl2': 3, 'ZnAc2': 4, 'ZnCl2': 5}\n",
      "{'Diamagnetic': 0, 'Ferromagnetic': 1, 'Paramagnetic': 2}\n"
     ]
    }
   ],
   "source": [
    "catalyst_encoder = LabelEncoder()\n",
    "type_encoder = LabelEncoder()\n",
    "\n",
    "data.drop(['Index'],axis=1,inplace=True)\n",
    "\n",
    "data['Catalyst'] = catalyst_encoder.fit_transform(data['Catalyst'])\n",
    "label_mapping = dict(zip(catalyst_encoder.classes_, catalyst_encoder.transform(catalyst_encoder.classes_)))\n",
    "print(label_mapping)\n",
    "\n",
    "data.drop(['Catalyst'],axis=1,inplace=True)\n",
    "data['mmol CO / g QD'] = data['mmol CO / g QD'] / data['Time ']\n",
    "data.drop(['Time '],axis=1,inplace=True)\n",
    "\n",
    "data['Type of complex (low-spin vs high-spin)'] = catalyst_encoder.fit_transform(data['Type of complex (low-spin vs high-spin)'])\n",
    "\n",
    "data['Magnetic Type'] = type_encoder.fit_transform(data['Magnetic Type'])\n",
    "label_mapping = dict(zip(type_encoder.classes_, type_encoder.transform(type_encoder.classes_)))\n",
    "print(label_mapping)\n",
    "data = data.fillna(0)\n",
    "\n",
    "features_scaler = StandardScaler()\n",
    "target_scaler = StandardScaler()\n",
    "\n",
    "data_pipeline = Pipeline([\n",
    "        ('std_scaler', features_scaler),\n",
    "    ])\n",
    "\n",
    "target_pipeline = Pipeline([\n",
    "        ('std_scaler', target_scaler),\n",
    "    ])\n",
    "\n",
    "target = data['mmol CO / g QD']\n",
    "features = data.drop('mmol CO / g QD', axis=1)\n",
    "\n",
    "columns_f = features.columns\n",
    "\n",
    "features = data_pipeline.fit_transform(features)\n",
    "features = pd.DataFrame(features,columns=columns_f)\n",
    "\n",
    "target = data_pipeline.fit_transform(target.to_numpy().reshape(-1,1))\n",
    "target = pd.DataFrame(target,columns=['mmol CO / g QD'])"
   ]
  },
  {
   "cell_type": "markdown",
   "id": "b3b92fed-2161-4093-b453-bb1574846a7c",
   "metadata": {},
   "source": [
    "# Splitting the dataset "
   ]
  },
  {
   "cell_type": "code",
   "execution_count": 15,
   "id": "a9708e1e",
   "metadata": {},
   "outputs": [],
   "source": [
    "x_train, X_test, y_train, Y_test = train_test_split(features, target, test_size=0.3, random_state=42)"
   ]
  },
  {
   "cell_type": "code",
   "execution_count": 16,
   "id": "aba7a625",
   "metadata": {},
   "outputs": [],
   "source": [
    "def objective_function(params):\n",
    "    model = xgb.XGBRegressor(objective='reg:squarederror', params = params[0])\n",
    "    scores = cross_val_score(model, x_train, y_train, cv=5,scoring ='r2')\n",
    "    return np.mean(scores)"
   ]
  },
  {
   "cell_type": "code",
   "execution_count": 17,
   "id": "524346da",
   "metadata": {},
   "outputs": [
    {
     "name": "stdout",
     "output_type": "stream",
     "text": [
      "Index(['Catalyst amount (umol)', 'pH before', 'mass (um)', 'Charge',\n",
      "       'radius (pm)', 'Number of electrons', 'Number of outer shell electrons',\n",
      "       'Number of unpaired electrons',\n",
      "       'Type of complex (low-spin vs high-spin)', '3->0', '2->0', '3->2',\n",
      "       'Electronegativity', 'Density', 'Melting point ',\n",
      "       'Electical Conductivity 10^7', 'Thermal Conductivity', 'Magnetic Type',\n",
      "       'Extinction coefficient', 'Max absorption wavelength',\n",
      "       'Extinction coefficient (400 nm)'],\n",
      "      dtype='object')\n"
     ]
    }
   ],
   "source": [
    "print(columns_f)\n",
    "bounds = [\n",
    "    {'name': 'Density', 'type': 'continuous', 'domain': (0, 24)},\n",
    "    {'name': '2->0', 'type': 'continuous', 'domain': (-4, 4)},\n",
    "    {'name': 'Catalyst amount (umol)', 'type': 'continuous', 'domain': (0, 2000)},\n",
    "    {'name': 'Melting point', 'type': 'continuous', 'domain': (0, 5000)},\n",
    "    {'name': 'pH before', 'type': 'continuous', 'domain': (0, 14)},\n",
    "    {'name': 'Electical Conductivity 10^7', 'type': 'continuous', 'domain': (0.001, 100)},\n",
    "    {'name': 'C', 'type': 'continuous', 'domain': (0.1, 10)},\n",
    "    {'name': 'gamma', 'type': 'continuous', 'domain': (0.0001, 1)},\n",
    "    {'name': 'n_estimators', 'type': 'discrete', 'domain': (10, 50, 100, 150, 200,300)},\n",
    "    {'name': 'max_features', 'type': 'discrete', 'domain': (1, 2, 3, 4,5,10)},\n",
    "    {'name': 'min_samples_split', 'type': 'discrete', 'domain': (2, 5, 10, 15, 20,30)},\n",
    "    {'name': 'Extinction coefficient', 'type': 'continuous', 'domain': (0, 1000000)},\n",
    "    {'name': '3->0', 'type': 'continuous', 'domain': (-4,4)},\n",
    "    {'name': 'Extinction coefficient (400 nm)', 'type': 'continuous', 'domain': (0, 1000000)},\n",
    "    {'name': 'Max absorption wavelength', 'type': 'continuous', 'domain': (300, 800)}\n",
    "]\n"
   ]
  },
  {
   "cell_type": "code",
   "execution_count": 18,
   "id": "31bcdd46",
   "metadata": {},
   "outputs": [],
   "source": [
    "def run_optimization(acquisition_type):\n",
    "    optimizer = GPyOpt.methods.BayesianOptimization(\n",
    "        f=objective_function,\n",
    "        domain=bounds,\n",
    "        acquisition_type=acquisition_type\n",
    "    )\n",
    "    optimizer.run_optimization(max_iter=20)\n",
    "    return optimizer\n",
    "\n",
    "optimizers = {\n",
    "    'Expected Improvement (EI)': run_optimization('EI'),\n",
    "    'Lower Confidence Bound (LCB)': run_optimization('LCB'),\n",
    "    'Maximum Probability of Improvement (MPI)': run_optimization('MPI')\n",
    "}\n"
   ]
  },
  {
   "cell_type": "code",
   "execution_count": 19,
   "id": "c2b5c274",
   "metadata": {},
   "outputs": [
    {
     "name": "stdout",
     "output_type": "stream",
     "text": [
      "Expected Improvement (EI):\n",
      "  Best Parameters: {'Density': 6.639317575911283, '2->0': -1.8409635585938444, 'Catalyst amount (umol)': 1423, 'Melting point': 4991, 'pH before': 9.823561350863683, 'Electical Conductivity 10^7': 34.44801369760134, 'C': 9.07423106943334, 'gamma': 0.4995312714813476, 'n_estimators': 150, 'max_features': 5, 'min_samples_split': 10, 'Extinction coefficient': 624453.3885835682, '3->0': 1.679198014357386, 'Extinction coefficient (400 nm)': 181045.26306017677, 'Max absorption wavelength': 377.87914805904813}\n",
      "  Test Accuracy: 0.5010\n",
      "\n",
      "Lower Confidence Bound (LCB):\n",
      "  Best Parameters: {'Density': 15.650422295819316, '2->0': 3.1715285923031944, 'Catalyst amount (umol)': 668, 'Melting point': 3745, 'pH before': 1.7011037087472711, 'Electical Conductivity 10^7': 43.05440022436983, 'C': 0.9020659942508851, 'gamma': 0.6034080407201953, 'n_estimators': 50, 'max_features': 4, 'min_samples_split': 15, 'Extinction coefficient': 909186.0154868162, '3->0': 3.3928568281966616, 'Extinction coefficient (400 nm)': 961232.6243503412, 'Max absorption wavelength': 780.595840142743}\n",
      "  Test Accuracy: 0.5010\n",
      "\n",
      "Maximum Probability of Improvement (MPI):\n",
      "  Best Parameters: {'Density': 15.681096376668753, '2->0': -2.4295057088110115, 'Catalyst amount (umol)': 663, 'Melting point': 3839, 'pH before': 3.134545861751106, 'Electical Conductivity 10^7': 76.87161892505206, 'C': 4.209724375303752, 'gamma': 0.14593121123029346, 'n_estimators': 200, 'max_features': 1, 'min_samples_split': 5, 'Extinction coefficient': 184816.18215495933, '3->0': 1.9518593986875077, 'Extinction coefficient (400 nm)': 453746.13162450463, 'Max absorption wavelength': 339.90236650356974}\n",
      "  Test Accuracy: 0.5010\n",
      "\n"
     ]
    }
   ],
   "source": [
    "# Evaluate the best parameters found by each optimizer\n",
    "results = {}\n",
    "for name, optimizer in optimizers.items():\n",
    "    best_params = optimizer.X[np.argmin(optimizer.Y)]\n",
    "    best_params_dict = {\n",
    "        'Density':(best_params[0]),\n",
    "        '2->0':(best_params[1]),\n",
    "        'Catalyst amount (umol)':int(best_params[2]),\n",
    "        'Melting point':int(best_params[3]),\n",
    "        'pH before':(best_params[4]),\n",
    "        'Electical Conductivity 10^7':(best_params[5]),\n",
    "        'C':(best_params[6]),\n",
    "        'gamma':(best_params[7]),\n",
    "        'n_estimators': int(best_params[8]),\n",
    "        'max_features': int(best_params[9]),\n",
    "        'min_samples_split': int(best_params[10]),\n",
    "        'Extinction coefficient':best_params[11],\n",
    "        '3->0': best_params[12],\n",
    "        'Extinction coefficient (400 nm)':best_params[13],\n",
    "        'Max absorption wavelength':best_params[14]\n",
    "        \n",
    "    }\n",
    "    \n",
    "    # Train the final model with the best parameters\n",
    "    final_model = xgb.XGBRegressor(objective='reg:squarederror', params = best_params[0])\n",
    "    final_model.fit(x_train, y_train)\n",
    "    final_accuracy = final_model.score(X_test, Y_test)\n",
    "    \n",
    "    results[name] = {\n",
    "        'Best Parameters': best_params_dict,\n",
    "        'Test Accuracy': final_accuracy\n",
    "    }\n",
    "\n",
    "# Print the results\n",
    "for name, result in results.items():\n",
    "    print(f\"{name}:\")\n",
    "    print(f\"  Best Parameters: {result['Best Parameters']}\")\n",
    "    print(f\"  Test Accuracy: {result['Test Accuracy']:.4f}\\n\")\n"
   ]
  },
  {
   "cell_type": "markdown",
   "id": "52a568af-d98a-4113-ae6a-bd8ca9e97871",
   "metadata": {},
   "source": [
    "# Training the mode and finding the best parameters "
   ]
  },
  {
   "cell_type": "code",
   "execution_count": 20,
   "id": "81418767",
   "metadata": {},
   "outputs": [
    {
     "name": "stdout",
     "output_type": "stream",
     "text": [
      "Iteration 1\n",
      "  Best Parameters: {'Density': 5.467862855842567, '2->0': -3.3372066305139043, 'Catalyst amount (umol)': 1901, 'Melting point': 4168, 'pH before': 7.045357018730016, 'Electical Conductivity 10^7': 71.79999262122507, 'C': 7.742600377460206, 'gamma': 0.6113508577679466, 'n_estimators': 10, 'max_features': 3, 'min_samples_split': 5, 'Extinction coefficient': 116942.87742645603, '3->0': -2.0349906617090046, 'Extinction coefficient (400 nm)': 980586.3023341934, 'Max absorption wavelength': 431.34816711940834}\n",
      "  Test R²: 0.5340\n",
      "\n",
      "Iteration 2\n",
      "  Best Parameters: {'Density': 15.071834361591346, '2->0': -3.446795171964199, 'Catalyst amount (umol)': 1188, 'Melting point': 1552, 'pH before': 1.4033708283348358, 'Electical Conductivity 10^7': 64.29318308452919, 'C': 9.240132866069834, 'gamma': 0.2602638474449417, 'n_estimators': 10, 'max_features': 10, 'min_samples_split': 10, 'Extinction coefficient': 500596.0063000016, '3->0': -2.3462333252729817, 'Extinction coefficient (400 nm)': 765414.5735274277, 'Max absorption wavelength': 794.3762606697704}\n",
      "  Test R²: 0.7916\n",
      "\n",
      "Iteration 3\n",
      "  Best Parameters: {'Density': 6.589508671549634, '2->0': 0.19785237198768701, 'Catalyst amount (umol)': 235, 'Melting point': 1519, 'pH before': 1.2780289365163928, 'Electical Conductivity 10^7': 20.303147726404546, 'C': 1.9026752770604636, 'gamma': 0.44896283458721303, 'n_estimators': 100, 'max_features': 1, 'min_samples_split': 5, 'Extinction coefficient': 175561.23790738275, '3->0': 1.5772525699157178, 'Extinction coefficient (400 nm)': 373479.1207498293, 'Max absorption wavelength': 407.06708351373493}\n",
      "  Test R²: 0.9818\n",
      "\n",
      "Iteration 4\n",
      "  Best Parameters: {'Density': 2.4761519917610615, '2->0': -0.8534263694822029, 'Catalyst amount (umol)': 996, 'Melting point': 3099, 'pH before': 5.0712127191238805, 'Electical Conductivity 10^7': 23.04349905069293, 'C': 3.019522135073545, 'gamma': 0.33641088914753275, 'n_estimators': 300, 'max_features': 2, 'min_samples_split': 5, 'Extinction coefficient': 416476.6234270052, '3->0': -1.6424868671967774, 'Extinction coefficient (400 nm)': 731412.5935050116, 'Max absorption wavelength': 742.4413374789576}\n",
      "  Test R²: 0.9822\n",
      "\n"
     ]
    },
    {
     "data": {
      "image/png": "[encoded data removed]",
      "text/plain": [
       "<Figure size 1000x600 with 1 Axes>"
      ]
     },
     "metadata": {},
     "output_type": "display_data"
    }
   ],
   "source": [
    "X_pool, y_pool = x_train, y_train\n",
    "X_rest, y_rest = X_test, Y_test \n",
    "n_iterations = 4\n",
    "acquisition_function = 'MPI' \n",
    "\n",
    "# Store R² scores for each iteration\n",
    "r2_scores = []\n",
    "for iteration in range(n_iterations):\n",
    "    print(f\"Iteration {iteration + 1}\")\n",
    "    \n",
    "    # Perform Bayesian optimization to suggest the next parameters to test\n",
    "    optimizer = run_optimization(acquisition_function)\n",
    "    best_params = optimizer.X[np.argmin(optimizer.Y)]\n",
    "    best_params_dict = {\n",
    "        'Density':(best_params[0]),\n",
    "        '2->0':(best_params[1]),\n",
    "        'Catalyst amount (umol)':int(best_params[2]),\n",
    "        'Melting point':int(best_params[3]),\n",
    "        'pH before':(best_params[4]),\n",
    "        'Electical Conductivity 10^7':(best_params[5]),\n",
    "        'C':(best_params[6]),\n",
    "        'gamma':(best_params[7]),\n",
    "        'n_estimators': int(best_params[8]),\n",
    "        'max_features': int(best_params[9]),\n",
    "        'min_samples_split': int(best_params[10]),\n",
    "        'Extinction coefficient':best_params[11],\n",
    "        '3->0': best_params[12],\n",
    "        'Extinction coefficient (400 nm)':best_params[13],\n",
    "        'Max absorption wavelength':best_params[14]\n",
    "    }\n",
    "    \n",
    "    # Simulate testing the suggested parameters (here we use the rest of the data for simulation)\n",
    "    new_X, X_rest, new_y, y_rest = train_test_split(X_rest, y_rest, train_size=3, random_state=42)\n",
    "    X_pool = np.vstack((X_pool, new_X))\n",
    "    y_pool = np.vstack((y_pool, new_y))\n",
    "    \n",
    "    # Train the final model with the best parameters found\n",
    "    final_model = xgb.XGBRegressor(objective='reg:squarederror', params = best_params)\n",
    "    final_model.fit(X_pool, y_pool)\n",
    "    final_r2 = final_model.score(X_test, Y_test)\n",
    "    r2_scores.append(final_r2)\n",
    "    print(f\"  Best Parameters: {best_params_dict}\")\n",
    "    print(f\"  Test R²: {final_r2:.4f}\\n\")\n",
    "    \n",
    "# Plot the R² scores\n",
    "plt.figure(figsize=(10, 6))\n",
    "plt.plot(range(1, n_iterations + 1), r2_scores, 'o--', color='b', label='R² Score')\n",
    "plt.xlabel('Iteration')\n",
    "plt.ylabel('R² Score')\n",
    "plt.title('R² Score over Iterations')\n",
    "plt.legend()\n",
    "plt.show()"
   ]
  },
  {
   "cell_type": "code",
   "execution_count": 21,
   "id": "53f2a75e",
   "metadata": {},
   "outputs": [],
   "source": [
    "optimizer = BayesianOptimization(params = best_params,f=objective_function, domain=bounds)"
   ]
  },
  {
   "cell_type": "code",
   "execution_count": 22,
   "id": "c50a15b4",
   "metadata": {},
   "outputs": [],
   "source": [
    "optimizer.run_optimization(max_iter=50)"
   ]
  },
  {
   "cell_type": "code",
   "execution_count": 23,
   "id": "757cb885",
   "metadata": {},
   "outputs": [
    {
     "name": "stdout",
     "output_type": "stream",
     "text": [
      "'Density':2.4761519917610615, 2->0 : = -0.8534263694822029, Catalyst Amount (umol): = 996.9146049103275\n",
      "Melting point: = 3099.615325659546, pH before: = 13.420581211634214, Electrical Conductivity 10^7: = 23.04349905069293\n",
      "C: = 6.357409991918572, gamma: = 0.8437556637630508, n_estimators: = 300.0, max_features: = 2.0, min_samples_split: = 5.0\n",
      "Best cross-validated accuracy: -0.16804400411866605\n"
     ]
    }
   ],
   "source": [
    "optimized_params = optimizer.X[np.argmin(optimizer.Y)]\n",
    "optimized_score = -np.min(optimizer.Y)\n",
    "print(f\"'Density':{(best_params[0])}, 2->0 : = {best_params[1]}, Catalyst Amount (umol): = {best_params[2]}\")\n",
    "print(f\"Melting point: = {best_params[3]}, pH before: = {optimized_params[4]}, Electrical Conductivity 10^7: = {best_params[5]}\")\n",
    "print(f\"C: = {optimized_params[6]}, gamma: = {optimized_params[7]}, n_estimators: = {best_params[8]}, max_features: = {best_params[9]}, min_samples_split: = {best_params[10]}\")\n",
    "print(f\"Best cross-validated accuracy: {optimized_score}\")"
   ]
  },
  {
   "cell_type": "code",
   "execution_count": 24,
   "id": "46bc7b16",
   "metadata": {},
   "outputs": [
    {
     "data": {
      "image/png": "[encoded data removed]",
      "text/plain": [
       "<Figure size 1000x500 with 2 Axes>"
      ]
     },
     "metadata": {},
     "output_type": "display_data"
    }
   ],
   "source": [
    "optimizer.plot_convergence()"
   ]
  },
  {
   "cell_type": "code",
   "execution_count": null,
   "id": "0f0063a1",
   "metadata": {},
   "outputs": [],
   "source": []
  }
 ],
 "metadata": {
  "kernelspec": {
   "display_name": "Python 3 (ipykernel)",
   "language": "python",
   "name": "python3"
  },
  "language_info": {
   "codemirror_mode": {
    "name": "ipython",
    "version": 3
   },
   "file_extension": ".py",
   "mimetype": "text/x-python",
   "name": "python",
   "nbconvert_exporter": "python",
   "pygments_lexer": "ipython3",
   "version": "3.11.5"
  }
 },
 "nbformat": 4,
 "nbformat_minor": 5
}
